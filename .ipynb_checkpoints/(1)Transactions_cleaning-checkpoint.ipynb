{
 "cells": [
  {
   "cell_type": "markdown",
   "metadata": {},
   "source": [
    "# Transactions cleaning"
   ]
  },
  {
   "cell_type": "code",
   "execution_count": 1,
   "metadata": {},
   "outputs": [],
   "source": [
    "import os\n",
    "import pandas as pd\n",
    "import numpy as np\n",
    "from collections import Counter\n",
    "\n",
    "# Plot libraries\n",
    "import matplotlib.pyplot as plt\n",
    "import seaborn as sns\n",
    "color = sns.color_palette()\n",
    "\n",
    "# Random seed for reproducibility\n",
    "seed = 202\n",
    "np.random.seed(seed)\n",
    "\n",
    "# Ignore warnings\n",
    "import warnings\n",
    "warnings.simplefilter('ignore')\n",
    "\n",
    "# Garbage collector\n",
    "import gc\n",
    "gc.enable()"
   ]
  },
  {
   "cell_type": "markdown",
   "metadata": {},
   "source": [
    "### Import the dataframes"
   ]
  },
  {
   "cell_type": "markdown",
   "metadata": {},
   "source": [
    "### historical_transactions_df"
   ]
  },
  {
   "cell_type": "code",
   "execution_count": 2,
   "metadata": {},
   "outputs": [
    {
     "data": {
      "text/plain": [
       "(29112361, 14)"
      ]
     },
     "execution_count": 2,
     "metadata": {},
     "output_type": "execute_result"
    }
   ],
   "source": [
    "historical_transactions_df = pd.read_csv(\"historical_transactions.csv\")\n",
    "historical_transactions_df.shape"
   ]
  },
  {
   "cell_type": "code",
   "execution_count": 3,
   "metadata": {},
   "outputs": [
    {
     "data": {
      "text/plain": [
       "authorized_flag               0\n",
       "card_id                       0\n",
       "city_id                       0\n",
       "category_1                    0\n",
       "installments                  0\n",
       "category_3               178159\n",
       "merchant_category_id          0\n",
       "merchant_id              138481\n",
       "month_lag                     0\n",
       "purchase_amount               0\n",
       "purchase_date                 0\n",
       "category_2              2652864\n",
       "state_id                      0\n",
       "subsector_id                  0\n",
       "dtype: int64"
      ]
     },
     "execution_count": 3,
     "metadata": {},
     "output_type": "execute_result"
    }
   ],
   "source": [
    "historical_transactions_df.isnull().sum()"
   ]
  },
  {
   "cell_type": "markdown",
   "metadata": {},
   "source": [
    "### new_transactions_df"
   ]
  },
  {
   "cell_type": "code",
   "execution_count": 4,
   "metadata": {},
   "outputs": [
    {
     "data": {
      "text/plain": [
       "(1963031, 14)"
      ]
     },
     "execution_count": 4,
     "metadata": {},
     "output_type": "execute_result"
    }
   ],
   "source": [
    "new_transactions_df = pd.read_csv(\"new_merchant_transactions.csv\")\n",
    "new_transactions_df.shape"
   ]
  },
  {
   "cell_type": "code",
   "execution_count": 5,
   "metadata": {},
   "outputs": [
    {
     "data": {
      "text/plain": [
       "authorized_flag              0\n",
       "card_id                      0\n",
       "city_id                      0\n",
       "category_1                   0\n",
       "installments                 0\n",
       "category_3               55922\n",
       "merchant_category_id         0\n",
       "merchant_id              26216\n",
       "month_lag                    0\n",
       "purchase_amount              0\n",
       "purchase_date                0\n",
       "category_2              111745\n",
       "state_id                     0\n",
       "subsector_id                 0\n",
       "dtype: int64"
      ]
     },
     "execution_count": 5,
     "metadata": {},
     "output_type": "execute_result"
    }
   ],
   "source": [
    "new_transactions_df.isnull().sum()"
   ]
  },
  {
   "cell_type": "markdown",
   "metadata": {},
   "source": [
    "### merged dataframes"
   ]
  },
  {
   "cell_type": "code",
   "execution_count": 56,
   "metadata": {},
   "outputs": [
    {
     "data": {
      "text/plain": [
       "(31075392, 14)"
      ]
     },
     "execution_count": 56,
     "metadata": {},
     "output_type": "execute_result"
    }
   ],
   "source": [
    "transactions_df = pd.concat([historical_transactions_df, new_transactions_df], ignore_index=True)\n",
    "transactions_df.shape"
   ]
  },
  {
   "cell_type": "markdown",
   "metadata": {},
   "source": [
    "### Plot functions"
   ]
  },
  {
   "cell_type": "code",
   "execution_count": 57,
   "metadata": {},
   "outputs": [],
   "source": [
    "def cat_plot(df, col, df_name=\"\", color='green'):\n",
    "    cnt_srs = df[col].value_counts()\n",
    "    cnt_srs = cnt_srs.sort_index()\n",
    "    \n",
    "    # Size check to avoid endless plots\n",
    "    if(len(cnt_srs) > 500):\n",
    "        print(\"WARNING: There are %d different catecogies\" % len(cnt_srs))\n",
    "        return\n",
    "    plt.figure(figsize=(14,6))\n",
    "    sns.barplot(cnt_srs.index, cnt_srs.values, alpha=0.8, color=color)\n",
    "    plt.xticks(rotation='vertical')\n",
    "    title = df_name + \"\\n\" +col\n",
    "    plt.title(title)\n",
    "    plt.show()"
   ]
  },
  {
   "cell_type": "code",
   "execution_count": 58,
   "metadata": {},
   "outputs": [],
   "source": [
    "def dens_plot(df, col, df_name=\"\", color='red'):\n",
    "    cnt_srs = df[col].value_counts()\n",
    "    cnt_srs = cnt_srs.sort_index()\n",
    "    plt.figure(figsize=(14,6))\n",
    "    sns.kdeplot(cnt_srs.index, shade=True, color=color)\n",
    "    plt.xticks(rotation='vertical')\n",
    "    title = df_name + \"\\n\" +col\n",
    "    plt.title(title)\n",
    "    plt.show()"
   ]
  },
  {
   "cell_type": "code",
   "execution_count": 59,
   "metadata": {},
   "outputs": [],
   "source": [
    "def joint_dens_plot(df, col, df_name=\"\"):\n",
    "    cnt_srs = df[col].value_counts()\n",
    "    cnt_srs = cnt_srs.sort_index()\n",
    "    \n",
    "    # Size check to avoid endless plots\n",
    "    if(len(cnt_srs) > 500):\n",
    "        print(\"WARNING: There are %d different catecogies\" % len(cnt_srs))\n",
    "        return\n",
    "    \n",
    "    plt.figure(figsize=(14,6))\n",
    "    sns.jointplot(cnt_srs.index, cnt_srs.values, kind=\"kde\")\n",
    "    plt.xticks(rotation='vertical')\n",
    "    title = df_name + \"\\n\" +col\n",
    "    plt.title(title)\n",
    "    plt.show()"
   ]
  },
  {
   "cell_type": "markdown",
   "metadata": {},
   "source": [
    "### Feature cleaning"
   ]
  },
  {
   "cell_type": "markdown",
   "metadata": {},
   "source": [
    "#### authorized_flag"
   ]
  },
  {
   "cell_type": "code",
   "execution_count": 60,
   "metadata": {},
   "outputs": [
    {
     "name": "stdout",
     "output_type": "stream",
     "text": [
      "There are 2 different categories: \n",
      "Counter({'Y': 28558483, 'N': 2516909})\n"
     ]
    },
    {
     "data": {
      "image/png": "[encoded data removed]",
      "text/plain": [
       "<Figure size 1008x432 with 1 Axes>"
      ]
     },
     "metadata": {
      "needs_background": "light"
     },
     "output_type": "display_data"
    }
   ],
   "source": [
    "print(\"There are %d different categories: \" % transactions_df['authorized_flag'].nunique())\n",
    "print(Counter(transactions_df['authorized_flag']))\n",
    "cat_plot(transactions_df, \"authorized_flag\")"
   ]
  },
  {
   "cell_type": "code",
   "execution_count": 61,
   "metadata": {
    "scrolled": true
   },
   "outputs": [],
   "source": [
    "# Change to boolean\n",
    "transactions_df = transactions_df.replace({'authorized_flag': {'Y': True, 'N': False}})"
   ]
  },
  {
   "cell_type": "markdown",
   "metadata": {},
   "source": [
    "#### card_id"
   ]
  },
  {
   "cell_type": "code",
   "execution_count": 62,
   "metadata": {},
   "outputs": [
    {
     "name": "stdout",
     "output_type": "stream",
     "text": [
      "Historical transactions set has 325540 different card_id\n",
      "New transactions set has 290001 different card_id\n",
      "Number of common card_id in historical and new transactions set: 290001\n"
     ]
    }
   ],
   "source": [
    "print(\"Historical transactions set has %d different card_id\" % len(set(historical_transactions_df.card_id.unique())))\n",
    "print(\"New transactions set has %d different card_id\" % len(set(new_transactions_df.card_id.unique())))\n",
    "print(\"Number of common card_id in historical and new transactions set: %d\" % (len(set(historical_transactions_df.card_id.unique()).intersection(set(new_transactions_df.card_id.unique())))))"
   ]
  },
  {
   "cell_type": "markdown",
   "metadata": {},
   "source": [
    "Train and test have not common card_id, and their total amount of different card_id is 325540.\n",
    "This implies that the concatenation of historical and new transactions dataframes is mandatory in order to avoid a lot of free nans."
   ]
  },
  {
   "cell_type": "markdown",
   "metadata": {},
   "source": [
    "#### city_id"
   ]
  },
  {
   "cell_type": "code",
   "execution_count": 63,
   "metadata": {},
   "outputs": [
    {
     "name": "stdout",
     "output_type": "stream",
     "text": [
      "There are 308 different categories: \n"
     ]
    },
    {
     "data": {
      "image/png": "[encoded data removed]",
      "text/plain": [
       "<Figure size 1008x432 with 1 Axes>"
      ]
     },
     "metadata": {
      "needs_background": "light"
     },
     "output_type": "display_data"
    }
   ],
   "source": [
    "print(\"There are %d different categories: \" % transactions_df['city_id'].nunique())\n",
    "# print(Counter(transactions_df['city_id'])) # Too many values\n",
    "cat_plot(transactions_df, \"city_id\")"
   ]
  },
  {
   "cell_type": "code",
   "execution_count": 64,
   "metadata": {},
   "outputs": [
    {
     "name": "stdout",
     "output_type": "stream",
     "text": [
      "There are 2577973 values set to -1\n"
     ]
    }
   ],
   "source": [
    "print(\"There are %d values set to -1\" % transactions_df[transactions_df['city_id']<1].city_id.count())"
   ]
  },
  {
   "cell_type": "markdown",
   "metadata": {},
   "source": [
    "#### category_1"
   ]
  },
  {
   "cell_type": "code",
   "execution_count": 65,
   "metadata": {},
   "outputs": [
    {
     "name": "stdout",
     "output_type": "stream",
     "text": [
      "There are 2 different categories: \n",
      "Counter({'N': 28928267, 'Y': 2147125})\n"
     ]
    },
    {
     "data": {
      "image/png": "[encoded data removed]",
      "text/plain": [
       "<Figure size 1008x432 with 1 Axes>"
      ]
     },
     "metadata": {
      "needs_background": "light"
     },
     "output_type": "display_data"
    }
   ],
   "source": [
    "print(\"There are %d different categories: \" % transactions_df['category_1'].nunique())\n",
    "print(Counter(transactions_df['category_1']))\n",
    "cat_plot(transactions_df, \"category_1\")"
   ]
  },
  {
   "cell_type": "code",
   "execution_count": 66,
   "metadata": {},
   "outputs": [],
   "source": [
    "# Change to boolean\n",
    "transactions_df = transactions_df.replace({'category_1': {'Y': True, 'N': False}})"
   ]
  },
  {
   "cell_type": "markdown",
   "metadata": {},
   "source": [
    "#### installments"
   ]
  },
  {
   "cell_type": "code",
   "execution_count": 67,
   "metadata": {},
   "outputs": [
    {
     "name": "stdout",
     "output_type": "stream",
     "text": [
      "There are 15 different categories: \n",
      "Counter({0: 16333991, 1: 12513700, 2: 721145, 3: 582957, -1: 234081, 4: 194340, 6: 143023, 10: 127726, 5: 125386, 12: 57914, 8: 22029, 7: 11769, 9: 6250, 11: 891, 999: 190})\n"
     ]
    },
    {
     "data": {
      "image/png": "[encoded data removed]",
      "text/plain": [
       "<Figure size 1008x432 with 1 Axes>"
      ]
     },
     "metadata": {
      "needs_background": "light"
     },
     "output_type": "display_data"
    }
   ],
   "source": [
    "print(\"There are %d different categories: \" % transactions_df['installments'].nunique())\n",
    "print(Counter(transactions_df['installments']))\n",
    "cat_plot(transactions_df, \"installments\")"
   ]
  },
  {
   "cell_type": "code",
   "execution_count": 68,
   "metadata": {},
   "outputs": [],
   "source": [
    "# Convert 999 to -1, there are too few occurrences to be relevant\n",
    "transactions_df = transactions_df.replace({'installments': {999: -1}})"
   ]
  },
  {
   "cell_type": "code",
   "execution_count": 69,
   "metadata": {},
   "outputs": [
    {
     "data": {
      "text/plain": [
       "<Figure size 1008x432 with 0 Axes>"
      ]
     },
     "metadata": {},
     "output_type": "display_data"
    },
    {
     "data": {
      "image/png": "[encoded data removed]",
      "text/plain": [
       "<Figure size 432x432 with 3 Axes>"
      ]
     },
     "metadata": {
      "needs_background": "light"
     },
     "output_type": "display_data"
    }
   ],
   "source": [
    "joint_dens_plot(transactions_df, \"installments\")"
   ]
  },
  {
   "cell_type": "markdown",
   "metadata": {},
   "source": [
    "#### category_3"
   ]
  },
  {
   "cell_type": "code",
   "execution_count": 70,
   "metadata": {},
   "outputs": [
    {
     "name": "stdout",
     "output_type": "stream",
     "text": [
      "There are 3 different categories: \n",
      "Counter({'A': 16333991, 'B': 12513700, 'C': 1993620, nan: 234081})\n"
     ]
    },
    {
     "data": {
      "image/png": "[encoded data removed]",
      "text/plain": [
       "<Figure size 1008x432 with 1 Axes>"
      ]
     },
     "metadata": {
      "needs_background": "light"
     },
     "output_type": "display_data"
    }
   ],
   "source": [
    "print(\"There are %d different categories: \" % transactions_df['category_3'].nunique())\n",
    "print(Counter(transactions_df['category_3']))\n",
    "cat_plot(transactions_df, \"category_3\")"
   ]
  },
  {
   "cell_type": "code",
   "execution_count": 71,
   "metadata": {},
   "outputs": [],
   "source": [
    "# fill nans with a fourth category\n",
    "transactions_df['category_3'].fillna('D', inplace=True)"
   ]
  },
  {
   "cell_type": "markdown",
   "metadata": {},
   "source": [
    "#### merchant_category_id"
   ]
  },
  {
   "cell_type": "code",
   "execution_count": 72,
   "metadata": {},
   "outputs": [
    {
     "name": "stdout",
     "output_type": "stream",
     "text": [
      "Historical transactions set has 327 different merchant_category_id\n",
      "New transactions set has 314 different merchant_category_id\n",
      "Number of common merchant_category_id in historical and new transactions set: 310\n"
     ]
    }
   ],
   "source": [
    "print(\"Historical transactions set has %d different merchant_category_id\" % len(set(historical_transactions_df.merchant_category_id.unique())))\n",
    "print(\"New transactions set has %d different merchant_category_id\" % len(set(new_transactions_df.merchant_category_id.unique())))\n",
    "print(\"Number of common merchant_category_id in historical and new transactions set: %d\" % (len(set(historical_transactions_df.merchant_category_id.unique()).intersection(set(new_transactions_df.merchant_category_id.unique())))))"
   ]
  },
  {
   "cell_type": "markdown",
   "metadata": {},
   "source": [
    "#### merchant_id"
   ]
  },
  {
   "cell_type": "code",
   "execution_count": 73,
   "metadata": {},
   "outputs": [
    {
     "name": "stdout",
     "output_type": "stream",
     "text": [
      "Historical transactions set has 326312 different merchant_id\n",
      "New transactions set has 226130 different merchant_id\n",
      "Number of common merchant_id in historical and new transactions set: 217808\n"
     ]
    }
   ],
   "source": [
    "print(\"Historical transactions set has %d different merchant_id\" % len(set(historical_transactions_df.merchant_id.unique())))\n",
    "print(\"New transactions set has %d different merchant_id\" % len(set(new_transactions_df.merchant_id.unique())))\n",
    "print(\"Number of common merchant_id in historical and new transactions set: %d\" % (len(set(historical_transactions_df.merchant_id.unique()).intersection(set(new_transactions_df.merchant_id.unique())))))"
   ]
  },
  {
   "cell_type": "markdown",
   "metadata": {},
   "source": [
    "There's nothing with a real sense we can infer about merchant_id missing values. Because they are not so many, the only possibility is to drop them."
   ]
  },
  {
   "cell_type": "code",
   "execution_count": 74,
   "metadata": {},
   "outputs": [],
   "source": [
    "# drop the rows where there are missing values in merchant_id\n",
    "transactions_df.dropna(subset=['merchant_id'], inplace=True)"
   ]
  },
  {
   "cell_type": "markdown",
   "metadata": {},
   "source": [
    "#### month_lag \n",
    "Number of months of delay before payment"
   ]
  },
  {
   "cell_type": "code",
   "execution_count": 75,
   "metadata": {},
   "outputs": [
    {
     "name": "stdout",
     "output_type": "stream",
     "text": [
      "There are 16 different categories: \n",
      "Counter({-2: 3835910, -1: 3589436, 0: 3404841, -3: 3087434, -4: 2637822, -5: 2364232, -6: 2049613, -7: 1769489, -8: 1427532, -9: 1234466, -10: 1084782, 1: 1014541, -11: 1007695, 2: 922274, -12: 791748, -13: 688880})\n"
     ]
    },
    {
     "data": {
      "image/png": "[encoded data removed]",
      "text/plain": [
       "<Figure size 1008x432 with 1 Axes>"
      ]
     },
     "metadata": {
      "needs_background": "light"
     },
     "output_type": "display_data"
    }
   ],
   "source": [
    "print(\"There are %d different categories: \" % transactions_df['month_lag'].nunique())\n",
    "print(Counter(transactions_df['month_lag']))\n",
    "cat_plot(transactions_df, \"month_lag\")"
   ]
  },
  {
   "cell_type": "markdown",
   "metadata": {},
   "source": [
    "#### purchase_amount"
   ]
  },
  {
   "cell_type": "code",
   "execution_count": 76,
   "metadata": {},
   "outputs": [
    {
     "data": {
      "image/png": "[encoded data removed]",
      "text/plain": [
       "<Figure size 1008x432 with 1 Axes>"
      ]
     },
     "metadata": {
      "needs_background": "light"
     },
     "output_type": "display_data"
    }
   ],
   "source": [
    "dens_plot(transactions_df, \"purchase_amount\")"
   ]
  },
  {
   "cell_type": "code",
   "execution_count": 77,
   "metadata": {},
   "outputs": [
    {
     "name": "stdout",
     "output_type": "stream",
     "text": [
      "-0.7469078 6010603.9717525\n",
      "There are 1175 values minor than 0\n"
     ]
    }
   ],
   "source": [
    "print(min(transactions_df['purchase_amount'].values),max(transactions_df['purchase_amount'].values))\n",
    "print(\"There are %d values minor than 0\" % len(transactions_df[transactions_df['purchase_amount'] > 100]))"
   ]
  },
  {
   "cell_type": "markdown",
   "metadata": {},
   "source": [
    "#### purchase_date"
   ]
  },
  {
   "cell_type": "code",
   "execution_count": 78,
   "metadata": {},
   "outputs": [],
   "source": [
    "# Parse purchase_date to datetime format\n",
    "purchase_date = pd.to_datetime(transactions_df['purchase_date'], errors='coerce')\n",
    "transactions_df['purchase_date'] = purchase_date.dt.date\n",
    "# transactions_df['purchase_month_year'] = purchase_date.dt.to_period('M')"
   ]
  },
  {
   "cell_type": "markdown",
   "metadata": {},
   "source": [
    "#### category_2"
   ]
  },
  {
   "cell_type": "code",
   "execution_count": 79,
   "metadata": {},
   "outputs": [
    {
     "name": "stdout",
     "output_type": "stream",
     "text": [
      "There are 5 different categories and 2753032 nans\n",
      "The range of values goes from 1 to 5 with jumps of 1\n",
      "We fill nans with 6\n"
     ]
    }
   ],
   "source": [
    "print(\"There are %d different categories and %d nans\" % (transactions_df['category_2'].nunique(), transactions_df['category_2'].isnull().sum()))\n",
    "print(\"The range of values goes from %d to %d with jumps of 1\" % (min(transactions_df['category_2'].values),max(transactions_df['category_2'].values)))\n",
    "print(\"We fill nans with 6\")\n",
    "transactions_df['category_2'].fillna(6.0, inplace=True)"
   ]
  },
  {
   "cell_type": "code",
   "execution_count": 80,
   "metadata": {},
   "outputs": [
    {
     "name": "stdout",
     "output_type": "stream",
     "text": [
      "There are 6 different categories: \n",
      "Counter({1.0: 16147389, 3.0: 4176501, 5.0: 3960801, 4.0: 2784722, 6.0: 2753032, 2.0: 1088250})\n"
     ]
    },
    {
     "data": {
      "image/png": "[encoded data removed]",
      "text/plain": [
       "<Figure size 1008x432 with 1 Axes>"
      ]
     },
     "metadata": {
      "needs_background": "light"
     },
     "output_type": "display_data"
    }
   ],
   "source": [
    "print(\"There are %d different categories: \" % transactions_df['category_2'].nunique())\n",
    "print(Counter(transactions_df['category_2']))\n",
    "cat_plot(transactions_df, \"category_2\")"
   ]
  },
  {
   "cell_type": "code",
   "execution_count": 81,
   "metadata": {},
   "outputs": [
    {
     "data": {
      "text/plain": [
       "<Figure size 1008x432 with 0 Axes>"
      ]
     },
     "metadata": {},
     "output_type": "display_data"
    },
    {
     "data": {
      "image/png": "[encoded data removed]",
      "text/plain": [
       "<Figure size 432x432 with 3 Axes>"
      ]
     },
     "metadata": {
      "needs_background": "light"
     },
     "output_type": "display_data"
    }
   ],
   "source": [
    "joint_dens_plot(transactions_df, \"category_2\")"
   ]
  },
  {
   "cell_type": "markdown",
   "metadata": {},
   "source": [
    "#### state_id"
   ]
  },
  {
   "cell_type": "code",
   "execution_count": 82,
   "metadata": {},
   "outputs": [
    {
     "name": "stdout",
     "output_type": "stream",
     "text": [
      "There are 25 different categories: \n",
      "Counter({9: 11243470, -1: 2753032, 16: 2271633, 15: 2221411, 5: 1764619, 19: 1286122, 20: 1211058, 22: 1032114, 21: 985124, 4: 899832, 7: 685660, 11: 674140, 13: 671523, 3: 577944, 12: 410875, 18: 405018, 2: 396673, 1: 263925, 10: 239041, 23: 218589, 24: 218021, 14: 181253, 8: 168873, 17: 123164, 6: 7581})\n"
     ]
    },
    {
     "data": {
      "image/png": "[encoded data removed]",
      "text/plain": [
       "<Figure size 1008x432 with 1 Axes>"
      ]
     },
     "metadata": {
      "needs_background": "light"
     },
     "output_type": "display_data"
    }
   ],
   "source": [
    "print(\"There are %d different categories: \" % transactions_df['state_id'].nunique())\n",
    "print(Counter(transactions_df['state_id']))\n",
    "cat_plot(transactions_df, \"state_id\")"
   ]
  },
  {
   "cell_type": "code",
   "execution_count": 83,
   "metadata": {},
   "outputs": [
    {
     "data": {
      "text/plain": [
       "<Figure size 1008x432 with 0 Axes>"
      ]
     },
     "metadata": {},
     "output_type": "display_data"
    },
    {
     "data": {
      "image/png": "[encoded data removed]",
      "text/plain": [
       "<Figure size 432x432 with 3 Axes>"
      ]
     },
     "metadata": {
      "needs_background": "light"
     },
     "output_type": "display_data"
    }
   ],
   "source": [
    "joint_dens_plot(transactions_df, \"state_id\")"
   ]
  },
  {
   "cell_type": "markdown",
   "metadata": {},
   "source": [
    "#### subsector_id"
   ]
  },
  {
   "cell_type": "code",
   "execution_count": 84,
   "metadata": {},
   "outputs": [
    {
     "name": "stdout",
     "output_type": "stream",
     "text": [
      "There are 41 different categories: \n",
      "Counter({33: 5760958, 37: 4844029, 19: 3335545, 29: 2926209, 34: 2918076, 27: 1841089, 16: 1767579, 21: 909106, 7: 760034, 1: 755548, 15: 693416, 8: 552786, 18: 435191, 36: 366375, 20: 335543, 30: 322680, 25: 281103, 39: 278816, 12: 212729, 41: 205299, 22: 190581, 31: 155396, 17: 155307, 32: 144881, 2: 124242, 38: 101379, 3: 94027, 10: 91457, 9: 84085, 4: 63237, 35: 44339, 26: 27160, 13: 25312, 5: 24431, 14: 23211, 23: 20918, 24: 19544, 40: 14104, 11: 2569, -1: 2272, 28: 132})\n"
     ]
    },
    {
     "data": {
      "image/png": "[encoded data removed]",
      "text/plain": [
       "<Figure size 1008x432 with 1 Axes>"
      ]
     },
     "metadata": {
      "needs_background": "light"
     },
     "output_type": "display_data"
    }
   ],
   "source": [
    "print(\"There are %d different categories: \" % transactions_df['subsector_id'].nunique())\n",
    "print(Counter(transactions_df['subsector_id']))\n",
    "cat_plot(transactions_df, \"subsector_id\")"
   ]
  },
  {
   "cell_type": "code",
   "execution_count": 85,
   "metadata": {},
   "outputs": [
    {
     "data": {
      "text/plain": [
       "<Figure size 1008x432 with 0 Axes>"
      ]
     },
     "metadata": {},
     "output_type": "display_data"
    },
    {
     "data": {
      "image/png": "[encoded data removed]",
      "text/plain": [
       "<Figure size 432x432 with 3 Axes>"
      ]
     },
     "metadata": {
      "needs_background": "light"
     },
     "output_type": "display_data"
    }
   ],
   "source": [
    "joint_dens_plot(transactions_df, \"subsector_id\")"
   ]
  },
  {
   "cell_type": "markdown",
   "metadata": {},
   "source": [
    "### Checkpoint"
   ]
  },
  {
   "cell_type": "code",
   "execution_count": 86,
   "metadata": {},
   "outputs": [
    {
     "data": {
      "text/html": [
       "<div>\n",
       "<style scoped>\n",
       "    .dataframe tbody tr th:only-of-type {\n",
       "        vertical-align: middle;\n",
       "    }\n",
       "\n",
       "    .dataframe tbody tr th {\n",
       "        vertical-align: top;\n",
       "    }\n",
       "\n",
       "    .dataframe thead th {\n",
       "        text-align: right;\n",
       "    }\n",
       "</style>\n",
       "<table border=\"1\" class=\"dataframe\">\n",
       "  <thead>\n",
       "    <tr style=\"text-align: right;\">\n",
       "      <th></th>\n",
       "      <th>authorized_flag</th>\n",
       "      <th>card_id</th>\n",
       "      <th>city_id</th>\n",
       "      <th>category_1</th>\n",
       "      <th>installments</th>\n",
       "      <th>category_3</th>\n",
       "      <th>merchant_category_id</th>\n",
       "      <th>merchant_id</th>\n",
       "      <th>month_lag</th>\n",
       "      <th>purchase_amount</th>\n",
       "      <th>purchase_date</th>\n",
       "      <th>category_2</th>\n",
       "      <th>state_id</th>\n",
       "      <th>subsector_id</th>\n",
       "    </tr>\n",
       "  </thead>\n",
       "  <tbody>\n",
       "    <tr>\n",
       "      <th>0</th>\n",
       "      <td>True</td>\n",
       "      <td>C_ID_4e6213e9bc</td>\n",
       "      <td>88</td>\n",
       "      <td>False</td>\n",
       "      <td>0</td>\n",
       "      <td>A</td>\n",
       "      <td>80</td>\n",
       "      <td>M_ID_e020e9b302</td>\n",
       "      <td>-8</td>\n",
       "      <td>-0.703331</td>\n",
       "      <td>2017-06-25</td>\n",
       "      <td>1.0</td>\n",
       "      <td>16</td>\n",
       "      <td>37</td>\n",
       "    </tr>\n",
       "    <tr>\n",
       "      <th>1</th>\n",
       "      <td>True</td>\n",
       "      <td>C_ID_4e6213e9bc</td>\n",
       "      <td>88</td>\n",
       "      <td>False</td>\n",
       "      <td>0</td>\n",
       "      <td>A</td>\n",
       "      <td>367</td>\n",
       "      <td>M_ID_86ec983688</td>\n",
       "      <td>-7</td>\n",
       "      <td>-0.733128</td>\n",
       "      <td>2017-07-15</td>\n",
       "      <td>1.0</td>\n",
       "      <td>16</td>\n",
       "      <td>16</td>\n",
       "    </tr>\n",
       "    <tr>\n",
       "      <th>2</th>\n",
       "      <td>True</td>\n",
       "      <td>C_ID_4e6213e9bc</td>\n",
       "      <td>88</td>\n",
       "      <td>False</td>\n",
       "      <td>0</td>\n",
       "      <td>A</td>\n",
       "      <td>80</td>\n",
       "      <td>M_ID_979ed661fc</td>\n",
       "      <td>-6</td>\n",
       "      <td>-0.720386</td>\n",
       "      <td>2017-08-09</td>\n",
       "      <td>1.0</td>\n",
       "      <td>16</td>\n",
       "      <td>37</td>\n",
       "    </tr>\n",
       "    <tr>\n",
       "      <th>3</th>\n",
       "      <td>True</td>\n",
       "      <td>C_ID_4e6213e9bc</td>\n",
       "      <td>88</td>\n",
       "      <td>False</td>\n",
       "      <td>0</td>\n",
       "      <td>A</td>\n",
       "      <td>560</td>\n",
       "      <td>M_ID_e6d5ae8ea6</td>\n",
       "      <td>-5</td>\n",
       "      <td>-0.735352</td>\n",
       "      <td>2017-09-02</td>\n",
       "      <td>1.0</td>\n",
       "      <td>16</td>\n",
       "      <td>34</td>\n",
       "    </tr>\n",
       "    <tr>\n",
       "      <th>4</th>\n",
       "      <td>True</td>\n",
       "      <td>C_ID_4e6213e9bc</td>\n",
       "      <td>88</td>\n",
       "      <td>False</td>\n",
       "      <td>0</td>\n",
       "      <td>A</td>\n",
       "      <td>80</td>\n",
       "      <td>M_ID_e020e9b302</td>\n",
       "      <td>-11</td>\n",
       "      <td>-0.722865</td>\n",
       "      <td>2017-03-10</td>\n",
       "      <td>1.0</td>\n",
       "      <td>16</td>\n",
       "      <td>37</td>\n",
       "    </tr>\n",
       "  </tbody>\n",
       "</table>\n",
       "</div>"
      ],
      "text/plain": [
       "   authorized_flag          card_id  city_id  category_1  installments  \\\n",
       "0             True  C_ID_4e6213e9bc       88       False             0   \n",
       "1             True  C_ID_4e6213e9bc       88       False             0   \n",
       "2             True  C_ID_4e6213e9bc       88       False             0   \n",
       "3             True  C_ID_4e6213e9bc       88       False             0   \n",
       "4             True  C_ID_4e6213e9bc       88       False             0   \n",
       "\n",
       "  category_3  merchant_category_id      merchant_id  month_lag  \\\n",
       "0          A                    80  M_ID_e020e9b302         -8   \n",
       "1          A                   367  M_ID_86ec983688         -7   \n",
       "2          A                    80  M_ID_979ed661fc         -6   \n",
       "3          A                   560  M_ID_e6d5ae8ea6         -5   \n",
       "4          A                    80  M_ID_e020e9b302        -11   \n",
       "\n",
       "   purchase_amount purchase_date  category_2  state_id  subsector_id  \n",
       "0        -0.703331    2017-06-25         1.0        16            37  \n",
       "1        -0.733128    2017-07-15         1.0        16            16  \n",
       "2        -0.720386    2017-08-09         1.0        16            37  \n",
       "3        -0.735352    2017-09-02         1.0        16            34  \n",
       "4        -0.722865    2017-03-10         1.0        16            37  "
      ]
     },
     "execution_count": 86,
     "metadata": {},
     "output_type": "execute_result"
    }
   ],
   "source": [
    "transactions_df.head()"
   ]
  },
  {
   "cell_type": "code",
   "execution_count": 87,
   "metadata": {},
   "outputs": [
    {
     "data": {
      "text/plain": [
       "authorized_flag         0\n",
       "card_id                 0\n",
       "city_id                 0\n",
       "category_1              0\n",
       "installments            0\n",
       "category_3              0\n",
       "merchant_category_id    0\n",
       "merchant_id             0\n",
       "month_lag               0\n",
       "purchase_amount         0\n",
       "purchase_date           0\n",
       "category_2              0\n",
       "state_id                0\n",
       "subsector_id            0\n",
       "dtype: int64"
      ]
     },
     "execution_count": 87,
     "metadata": {},
     "output_type": "execute_result"
    }
   ],
   "source": [
    "transactions_df.isnull().sum()"
   ]
  },
  {
   "cell_type": "markdown",
   "metadata": {},
   "source": [
    "### New temporal features"
   ]
  },
  {
   "cell_type": "code",
   "execution_count": 93,
   "metadata": {},
   "outputs": [],
   "source": [
    "transactions_df['purchase_date'] = pd.to_datetime(transactions_df['purchase_date'])\n",
    "transactions_df['day_of_week'] = transactions_df['purchase_date'].dt.dayofweek\n",
    "transactions_df['hour_of_day'] = transactions_df['purchase_date'].dt.hour\n",
    "transactions_df['day_of_month'] = transactions_df['purchase_date'].dt.day\n",
    "transactions_df['week_of_year'] = transactions_df['purchase_date'].dt.weekofyear\n",
    "transactions_df['month'] = transactions_df['purchase_date'].dt.month"
   ]
  },
  {
   "cell_type": "code",
   "execution_count": 94,
   "metadata": {},
   "outputs": [
    {
     "data": {
      "text/html": [
       "<div>\n",
       "<style scoped>\n",
       "    .dataframe tbody tr th:only-of-type {\n",
       "        vertical-align: middle;\n",
       "    }\n",
       "\n",
       "    .dataframe tbody tr th {\n",
       "        vertical-align: top;\n",
       "    }\n",
       "\n",
       "    .dataframe thead th {\n",
       "        text-align: right;\n",
       "    }\n",
       "</style>\n",
       "<table border=\"1\" class=\"dataframe\">\n",
       "  <thead>\n",
       "    <tr style=\"text-align: right;\">\n",
       "      <th></th>\n",
       "      <th>authorized_flag</th>\n",
       "      <th>card_id</th>\n",
       "      <th>city_id</th>\n",
       "      <th>category_1</th>\n",
       "      <th>installments</th>\n",
       "      <th>category_3</th>\n",
       "      <th>merchant_category_id</th>\n",
       "      <th>merchant_id</th>\n",
       "      <th>month_lag</th>\n",
       "      <th>purchase_amount</th>\n",
       "      <th>purchase_date</th>\n",
       "      <th>category_2</th>\n",
       "      <th>state_id</th>\n",
       "      <th>subsector_id</th>\n",
       "      <th>day_of_week</th>\n",
       "      <th>hour_of_day</th>\n",
       "      <th>day_of_month</th>\n",
       "      <th>week_of_year</th>\n",
       "      <th>month</th>\n",
       "    </tr>\n",
       "  </thead>\n",
       "  <tbody>\n",
       "    <tr>\n",
       "      <th>0</th>\n",
       "      <td>True</td>\n",
       "      <td>C_ID_4e6213e9bc</td>\n",
       "      <td>88</td>\n",
       "      <td>False</td>\n",
       "      <td>0</td>\n",
       "      <td>A</td>\n",
       "      <td>80</td>\n",
       "      <td>M_ID_e020e9b302</td>\n",
       "      <td>-8</td>\n",
       "      <td>-0.703331</td>\n",
       "      <td>2017-06-25</td>\n",
       "      <td>1.0</td>\n",
       "      <td>16</td>\n",
       "      <td>37</td>\n",
       "      <td>6</td>\n",
       "      <td>0</td>\n",
       "      <td>25</td>\n",
       "      <td>25</td>\n",
       "      <td>6</td>\n",
       "    </tr>\n",
       "    <tr>\n",
       "      <th>1</th>\n",
       "      <td>True</td>\n",
       "      <td>C_ID_4e6213e9bc</td>\n",
       "      <td>88</td>\n",
       "      <td>False</td>\n",
       "      <td>0</td>\n",
       "      <td>A</td>\n",
       "      <td>367</td>\n",
       "      <td>M_ID_86ec983688</td>\n",
       "      <td>-7</td>\n",
       "      <td>-0.733128</td>\n",
       "      <td>2017-07-15</td>\n",
       "      <td>1.0</td>\n",
       "      <td>16</td>\n",
       "      <td>16</td>\n",
       "      <td>5</td>\n",
       "      <td>0</td>\n",
       "      <td>15</td>\n",
       "      <td>28</td>\n",
       "      <td>7</td>\n",
       "    </tr>\n",
       "    <tr>\n",
       "      <th>2</th>\n",
       "      <td>True</td>\n",
       "      <td>C_ID_4e6213e9bc</td>\n",
       "      <td>88</td>\n",
       "      <td>False</td>\n",
       "      <td>0</td>\n",
       "      <td>A</td>\n",
       "      <td>80</td>\n",
       "      <td>M_ID_979ed661fc</td>\n",
       "      <td>-6</td>\n",
       "      <td>-0.720386</td>\n",
       "      <td>2017-08-09</td>\n",
       "      <td>1.0</td>\n",
       "      <td>16</td>\n",
       "      <td>37</td>\n",
       "      <td>2</td>\n",
       "      <td>0</td>\n",
       "      <td>9</td>\n",
       "      <td>32</td>\n",
       "      <td>8</td>\n",
       "    </tr>\n",
       "    <tr>\n",
       "      <th>3</th>\n",
       "      <td>True</td>\n",
       "      <td>C_ID_4e6213e9bc</td>\n",
       "      <td>88</td>\n",
       "      <td>False</td>\n",
       "      <td>0</td>\n",
       "      <td>A</td>\n",
       "      <td>560</td>\n",
       "      <td>M_ID_e6d5ae8ea6</td>\n",
       "      <td>-5</td>\n",
       "      <td>-0.735352</td>\n",
       "      <td>2017-09-02</td>\n",
       "      <td>1.0</td>\n",
       "      <td>16</td>\n",
       "      <td>34</td>\n",
       "      <td>5</td>\n",
       "      <td>0</td>\n",
       "      <td>2</td>\n",
       "      <td>35</td>\n",
       "      <td>9</td>\n",
       "    </tr>\n",
       "    <tr>\n",
       "      <th>4</th>\n",
       "      <td>True</td>\n",
       "      <td>C_ID_4e6213e9bc</td>\n",
       "      <td>88</td>\n",
       "      <td>False</td>\n",
       "      <td>0</td>\n",
       "      <td>A</td>\n",
       "      <td>80</td>\n",
       "      <td>M_ID_e020e9b302</td>\n",
       "      <td>-11</td>\n",
       "      <td>-0.722865</td>\n",
       "      <td>2017-03-10</td>\n",
       "      <td>1.0</td>\n",
       "      <td>16</td>\n",
       "      <td>37</td>\n",
       "      <td>4</td>\n",
       "      <td>0</td>\n",
       "      <td>10</td>\n",
       "      <td>10</td>\n",
       "      <td>3</td>\n",
       "    </tr>\n",
       "  </tbody>\n",
       "</table>\n",
       "</div>"
      ],
      "text/plain": [
       "   authorized_flag          card_id  city_id  category_1  installments  \\\n",
       "0             True  C_ID_4e6213e9bc       88       False             0   \n",
       "1             True  C_ID_4e6213e9bc       88       False             0   \n",
       "2             True  C_ID_4e6213e9bc       88       False             0   \n",
       "3             True  C_ID_4e6213e9bc       88       False             0   \n",
       "4             True  C_ID_4e6213e9bc       88       False             0   \n",
       "\n",
       "  category_3  merchant_category_id      merchant_id  month_lag  \\\n",
       "0          A                    80  M_ID_e020e9b302         -8   \n",
       "1          A                   367  M_ID_86ec983688         -7   \n",
       "2          A                    80  M_ID_979ed661fc         -6   \n",
       "3          A                   560  M_ID_e6d5ae8ea6         -5   \n",
       "4          A                    80  M_ID_e020e9b302        -11   \n",
       "\n",
       "   purchase_amount purchase_date  category_2  state_id  subsector_id  \\\n",
       "0        -0.703331    2017-06-25         1.0        16            37   \n",
       "1        -0.733128    2017-07-15         1.0        16            16   \n",
       "2        -0.720386    2017-08-09         1.0        16            37   \n",
       "3        -0.735352    2017-09-02         1.0        16            34   \n",
       "4        -0.722865    2017-03-10         1.0        16            37   \n",
       "\n",
       "   day_of_week  hour_of_day  day_of_month  week_of_year  month  \n",
       "0            6            0            25            25      6  \n",
       "1            5            0            15            28      7  \n",
       "2            2            0             9            32      8  \n",
       "3            5            0             2            35      9  \n",
       "4            4            0            10            10      3  "
      ]
     },
     "execution_count": 94,
     "metadata": {},
     "output_type": "execute_result"
    }
   ],
   "source": [
    "transactions_df.head()"
   ]
  },
  {
   "cell_type": "markdown",
   "metadata": {},
   "source": [
    "### Export cleaned dataframe"
   ]
  },
  {
   "cell_type": "code",
   "execution_count": 95,
   "metadata": {},
   "outputs": [],
   "source": [
    "transactions_df.to_csv('(1)transactions.csv', index = False)"
   ]
  }
 ],
 "metadata": {
  "kernelspec": {
   "display_name": "Python 3",
   "language": "python",
   "name": "python3"
  },
  "language_info": {
   "codemirror_mode": {
    "name": "ipython",
    "version": 3
   },
   "file_extension": ".py",
   "mimetype": "text/x-python",
   "name": "python",
   "nbconvert_exporter": "python",
   "pygments_lexer": "ipython3",
   "version": "3.7.0"
  }
 },
 "nbformat": 4,
 "nbformat_minor": 2
}
